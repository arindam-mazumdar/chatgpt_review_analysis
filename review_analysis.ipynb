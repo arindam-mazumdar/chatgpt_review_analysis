{
 "cells": [
  {
   "cell_type": "markdown",
   "metadata": {},
   "source": [
    "# Gathering valuable data from Google review using BARD api and ChatGPT api\n",
    "\n",
    "We demonstrate the Google BARD free api only. This method is currently not usable \n",
    "Go to google bard. Then in the web page in chrome browser do the following:\n",
    "- Do 'Inspect' page\n",
    "- in side tab go to 'Applications'\n",
    "- Go to 'cookies'\n",
    "- Then go to 'https://bard.google.com' label within the 'cookies' tab\n",
    "- Click on '__Secure-1PSID'\n",
    "\n",
    "You will get your google bard API"
   ]
  },
  {
   "cell_type": "code",
   "execution_count": 1,
   "metadata": {},
   "outputs": [],
   "source": [
    "import os\n",
    "from bardapi import Bard\n",
    "\n",
    "from dotenv import load_dotenv\n",
    "_ = load_dotenv('bard.env') \n",
    "\n",
    "bard_api_key  = os.getenv('BARD_API_KEY')"
   ]
  },
  {
   "cell_type": "code",
   "execution_count": 3,
   "metadata": {},
   "outputs": [],
   "source": [
    "bard = Bard(token = bard_api_key)"
   ]
  },
  {
   "cell_type": "code",
   "execution_count": 7,
   "metadata": {},
   "outputs": [],
   "source": [
    "def generate_response(prompt):\n",
    "    \"\"\"\n",
    "    Query BARD API to get response.\n",
    "    \"\"\"\n",
    "    \n",
    "    response = bard.get_answer(prompt)\n",
    "                                \n",
    "    \n",
    "    return response"
   ]
  },
  {
   "cell_type": "code",
   "execution_count": 1,
   "metadata": {},
   "outputs": [],
   "source": [
    "def generate_prompt(review_text):\n",
    "    \"\"\"\n",
    "    Create prompt that gets sent to OpenAI API.\n",
    "    \"\"\"\n",
    "\n",
    "    prompt = f'''From the following review text give me the informations \n",
    "                of overall mood of the review, good things or items and bad \n",
    "                things or items mentioned in the review. Provide the result \n",
    "                in json format with fields mood, good_items, bad_items. \n",
    "                The review text is {review_text}'''\n",
    "    \n",
    "    return prompt"
   ]
  },
  {
   "cell_type": "markdown",
   "metadata": {},
   "source": [
    "Let us take an example from a resturant's review and check the output of the bard's answer:"
   ]
  },
  {
   "cell_type": "code",
   "execution_count": 8,
   "metadata": {},
   "outputs": [],
   "source": [
    "tt = ''' \n",
    "        Been here for more than 10 times in last one year, \n",
    "        I like to visit during lunch because staff will be \n",
    "        welcoming and taste of food is really nice and night \n",
    "        times food is not great due to lot of crowd and my \n",
    "        recent experience This Saturday when I visited for dinner \n",
    "        it was over crowded as there were two birthday celebrations \n",
    "        are going on and staff was very un attentive and one of \n",
    "        the staff clearly mentioned please order only biriyani as \n",
    "        kitchen is really busy and Biriyani was not great. paneer was really nice.\n",
    "        '''"
   ]
  },
  {
   "cell_type": "code",
   "execution_count": 12,
   "metadata": {},
   "outputs": [],
   "source": [
    "output = generate_response(generate_prompt(tt))"
   ]
  },
  {
   "cell_type": "code",
   "execution_count": 21,
   "metadata": {},
   "outputs": [],
   "source": [
    "import json"
   ]
  },
  {
   "cell_type": "code",
   "execution_count": 23,
   "metadata": {},
   "outputs": [
    {
     "data": {
      "text/plain": [
       "{'mood': 'negative',\n",
       " 'good_items': ['paneer'],\n",
       " 'bad_items': ['service', 'crowd', 'biriyani']}"
      ]
     },
     "execution_count": 23,
     "metadata": {},
     "output_type": "execute_result"
    }
   ],
   "source": [
    "json.loads(output['code'])"
   ]
  },
  {
   "cell_type": "markdown",
   "metadata": {},
   "source": [
    "<br>\n",
    "<br>\n",
    "\n",
    "These free APIs are exhausted within a few usages. \n",
    "This is just to demonstrate that similar kind of response can be generated with Google Bard like ChatGPT\n",
    "\n",
    "\n",
    "Now we move to ChatGPT again and use this tools to extarct some valuable informations about a business (A Culver's resturant at Lansing, MI).\n",
    "\n",
    "We have 100 reviews of the resturant that are collected from Google Map Review. We will analyse which issues are affecting the bussiness in \n",
    "a bad way or good way"
   ]
  },
  {
   "cell_type": "code",
   "execution_count": 1,
   "metadata": {},
   "outputs": [],
   "source": [
    "import pandas as pd"
   ]
  },
  {
   "cell_type": "code",
   "execution_count": 2,
   "metadata": {},
   "outputs": [],
   "source": [
    "reviews_df = pd.read_csv('./reviews/filter650ab74699a02_csv.csv')"
   ]
  },
  {
   "cell_type": "code",
   "execution_count": 3,
   "metadata": {},
   "outputs": [
    {
     "data": {
      "text/plain": [
       "0     This is a brand new Culver's in Lansing, Michi...\n",
       "1     This is our local Culver's for South Lansing. ...\n",
       "2     Extra Friendly Staff! They really went out of ...\n",
       "3     Love culvers food and the flavor of the day ne...\n",
       "4     This Culvers is one of the worst Culvers ive e...\n",
       "                            ...                        \n",
       "95    On 8/22/23 at 2:35pm I was over charged at the...\n",
       "96    Just disappointed! We are traveling with trail...\n",
       "97    Order was wrong and missing items.  Drive thro...\n",
       "98    Absolutely love the Cod meal but the last two ...\n",
       "99    Ali demonstrated amazing customer service! Foo...\n",
       "Name: Review, Length: 100, dtype: object"
      ]
     },
     "execution_count": 3,
     "metadata": {},
     "output_type": "execute_result"
    }
   ],
   "source": [
    "reviews_df.Review"
   ]
  },
  {
   "cell_type": "code",
   "execution_count": 4,
   "metadata": {},
   "outputs": [],
   "source": [
    "import os\n",
    "import openai\n",
    "from dotenv import load_dotenv\n",
    "_ = load_dotenv('chatgpt.env') \n",
    "\n",
    "openai.api_key  = os.getenv('OPENAI_API_KEY')"
   ]
  },
  {
   "cell_type": "code",
   "execution_count": 5,
   "metadata": {},
   "outputs": [],
   "source": [
    "def generate_chatgpt_response(prompt):\n",
    "    \"\"\"\n",
    "    Query OpenAI API to get response.\n",
    "    \"\"\"\n",
    "\n",
    "    response = openai.ChatCompletion.create(model='gpt-3.5-turbo',\n",
    "                                            temperature=0, # degree of randomness of output           \n",
    "                                            messages=[{'role': 'user', 'content': prompt}]\n",
    "                                           )\n",
    "                                \n",
    "    \n",
    "    return response.choices[0].message.content\n"
   ]
  },
  {
   "cell_type": "code",
   "execution_count": 7,
   "metadata": {},
   "outputs": [],
   "source": [
    "import time\n",
    "\n",
    "json_response = []\n",
    "\n",
    "for i in range(100):\n",
    "    time.sleep(25)\n",
    "    json_response.append(generate_chatgpt_response(generate_prompt(reviews_df.Review[i])))"
   ]
  },
  {
   "cell_type": "code",
   "execution_count": 23,
   "metadata": {},
   "outputs": [
    {
     "data": {
      "text/plain": [
       "'{\\n  \"mood\": \"positive\",\\n  \"good_items\": [\\n    \"outstanding food\",\\n    \"quick service\",\\n    \"perfect temperature of food\",\\n    \"excellent cheese curds\",\\n    \"generous portions\",\\n    \"polite and attentive staff\",\\n    \"engaged and welcoming Franchisee\",\\n    \"wonderful root beer\",\\n    \"recommendation for dinner treat and frozen custard\"\\n  ],\\n  \"bad_items\": [\\n    \"pricing is a little more than fast food\"\\n  ]\\n}'"
      ]
     },
     "execution_count": 23,
     "metadata": {},
     "output_type": "execute_result"
    }
   ],
   "source": [
    "json_response[0]"
   ]
  },
  {
   "cell_type": "markdown",
   "metadata": {},
   "source": [
    "We can see that the 'good_items' or 'bad_items' are long part of sentences, which requires additional processing to find out the causes of good or bad customer experince in a quantitative way. "
   ]
  },
  {
   "cell_type": "code",
   "execution_count": 12,
   "metadata": {},
   "outputs": [],
   "source": [
    "import json"
   ]
  },
  {
   "cell_type": "code",
   "execution_count": 33,
   "metadata": {},
   "outputs": [],
   "source": [
    "analysis_df = pd.DataFrame([json.loads(json_response[i]) for i in range(100)])"
   ]
  },
  {
   "cell_type": "markdown",
   "metadata": {},
   "source": [
    "Moreover, the number of ways in which mood is described makes it difficult to do analysis."
   ]
  },
  {
   "cell_type": "code",
   "execution_count": 35,
   "metadata": {},
   "outputs": [
    {
     "data": {
      "text/plain": [
       "array(['positive', 'negative', 'neutral', 'frustrated', 'mixed',\n",
       "       'Embarrassed and thankful', 'disappointed', 'disappointment',\n",
       "       'Decent', 'okay', 'disappointing'], dtype=object)"
      ]
     },
     "execution_count": 35,
     "metadata": {},
     "output_type": "execute_result"
    }
   ],
   "source": [
    "analysis_df.mood.unique()"
   ]
  },
  {
   "cell_type": "markdown",
   "metadata": {},
   "source": [
    "### Promt Engineering: Zero shot\n",
    "\n",
    "We can definitely see that it is difficult to do quantitative analysis with the above responses. Therefore, we would like to provide some sample format to the LLM  "
   ]
  },
  {
   "cell_type": "code",
   "execution_count": 6,
   "metadata": {},
   "outputs": [],
   "source": [
    "def generate_prompt_zero(review_text):\n",
    "    \"\"\"\n",
    "    Create prompt that gets sent to OpenAI API.\n",
    "    \"\"\"\n",
    "\n",
    "    prompt = f'''From the following review text give me the informations \n",
    "                of overall mood of the review, good things or items and bad \n",
    "                things or items mentioned in the review. Mood shoud be either positive, negative or neutral.\n",
    "                Good and bad things should be a single word or a list of single words.\n",
    "                Provide the result in json format with fields mood, good_items, bad_items. \n",
    "                The review text is {review_text}'''\n",
    "    \n",
    "    return prompt"
   ]
  },
  {
   "cell_type": "code",
   "execution_count": 7,
   "metadata": {},
   "outputs": [
    {
     "data": {
      "text/plain": [
       "'{\\n  \"mood\": \"negative\",\\n  \"good_items\": [],\\n  \"bad_items\": [\"disappointed\", \"drive through only\", \"doors locked\", \"staffing\"]\\n}'"
      ]
     },
     "execution_count": 7,
     "metadata": {},
     "output_type": "execute_result"
    }
   ],
   "source": [
    "generate_chatgpt_response(generate_prompt_zero(reviews_df.Review[96]))"
   ]
  },
  {
   "cell_type": "markdown",
   "metadata": {},
   "source": [
    "Still a better result ...."
   ]
  },
  {
   "cell_type": "code",
   "execution_count": 9,
   "metadata": {},
   "outputs": [],
   "source": [
    "import time\n",
    "\n",
    "json_response_zero = []\n",
    "\n",
    "for i in range(100):\n",
    "    time.sleep(25)\n",
    "    json_response_zero.append(generate_chatgpt_response(generate_prompt_zero(reviews_df.Review[i])))"
   ]
  },
  {
   "cell_type": "code",
   "execution_count": 11,
   "metadata": {},
   "outputs": [
    {
     "data": {
      "text/plain": [
       "100"
      ]
     },
     "execution_count": 11,
     "metadata": {},
     "output_type": "execute_result"
    }
   ],
   "source": [
    "len(json_response_zero)"
   ]
  },
  {
   "cell_type": "code",
   "execution_count": 13,
   "metadata": {},
   "outputs": [],
   "source": [
    "analysis_df0 = pd.DataFrame([json.loads(json_response_zero[i]) for i in range(100)])"
   ]
  },
  {
   "cell_type": "markdown",
   "metadata": {},
   "source": [
    "Let's make a bag-of-words of the \"good_items\""
   ]
  },
  {
   "cell_type": "code",
   "execution_count": 31,
   "metadata": {},
   "outputs": [],
   "source": [
    "good_words = []\n",
    "for i in range(100):\n",
    "    splitted_words = []\n",
    "    for words in analysis_df0.good_items[i] :\n",
    "        splitted_words += words.split(' ')\n",
    "    good_words +=splitted_words"
   ]
  },
  {
   "cell_type": "code",
   "execution_count": 33,
   "metadata": {},
   "outputs": [],
   "source": [
    "from collections import Counter"
   ]
  },
  {
   "cell_type": "code",
   "execution_count": 50,
   "metadata": {},
   "outputs": [],
   "source": [
    "good_dic = Counter(good_words)"
   ]
  },
  {
   "cell_type": "code",
   "execution_count": 56,
   "metadata": {},
   "outputs": [
    {
     "data": {
      "text/plain": [
       "[('clean', 4),\n",
       " ('cooked', 4),\n",
       " ('fish', 4),\n",
       " ('the', 5),\n",
       " ('and', 6),\n",
       " ('staff', 6),\n",
       " ('burger', 6),\n",
       " ('best', 6),\n",
       " ('cheese', 7),\n",
       " ('custard', 7),\n",
       " ('great', 7),\n",
       " ('fries', 7),\n",
       " ('fresh', 7),\n",
       " ('fast', 8),\n",
       " ('with', 8),\n",
       " ('friendly', 8),\n",
       " ('hot', 9),\n",
       " ('good', 12),\n",
       " ('service', 14),\n",
       " ('food', 25)]"
      ]
     },
     "execution_count": 56,
     "metadata": {},
     "output_type": "execute_result"
    }
   ],
   "source": [
    "sorted(good_dic.items(), key= lambda x:x[1])[-20:]"
   ]
  },
  {
   "cell_type": "code",
   "execution_count": 49,
   "metadata": {},
   "outputs": [],
   "source": [
    "bad_words = []\n",
    "for i in range(100):\n",
    "    splitted_words = []\n",
    "    for words in analysis_df0.bad_items[i] :\n",
    "        splitted_words += words.split(' ')\n",
    "    bad_words +=splitted_words"
   ]
  },
  {
   "cell_type": "code",
   "execution_count": 52,
   "metadata": {},
   "outputs": [],
   "source": [
    "bad_dic = Counter(bad_words)"
   ]
  },
  {
   "cell_type": "code",
   "execution_count": 55,
   "metadata": {},
   "outputs": [
    {
     "data": {
      "text/plain": [
       "[('get', 6),\n",
       " ('wait', 7),\n",
       " ('waited', 7),\n",
       " ('up', 7),\n",
       " ('fries', 7),\n",
       " ('drive', 8),\n",
       " (\"didn't\", 8),\n",
       " ('wrong', 8),\n",
       " ('my', 8),\n",
       " ('in', 8),\n",
       " ('of', 8),\n",
       " ('service', 9),\n",
       " ('a', 9),\n",
       " ('missing', 11),\n",
       " ('no', 12),\n",
       " ('food', 13),\n",
       " ('to', 17),\n",
       " ('order', 18),\n",
       " ('the', 18),\n",
       " ('not', 22)]"
      ]
     },
     "execution_count": 55,
     "metadata": {},
     "output_type": "execute_result"
    }
   ],
   "source": [
    "sorted(bad_dic.items(), key= lambda x:x[1])[-20:]"
   ]
  },
  {
   "cell_type": "markdown",
   "metadata": {},
   "source": [
    "## Conclussion\n",
    "\n",
    "'Service' comes in the mist of both good and bad words.\n",
    "\n",
    "- While 'fish', 'burger', 'cheese', 'custard' made a good impression to the customers\n",
    "\n",
    "- 'Wait/waiting' is the most imprtant thing that made the bad reputation"
   ]
  },
  {
   "cell_type": "code",
   "execution_count": null,
   "metadata": {},
   "outputs": [],
   "source": []
  }
 ],
 "metadata": {
  "kernelspec": {
   "display_name": "Python 3",
   "language": "python",
   "name": "python3"
  },
  "language_info": {
   "codemirror_mode": {
    "name": "ipython",
    "version": 3
   },
   "file_extension": ".py",
   "mimetype": "text/x-python",
   "name": "python",
   "nbconvert_exporter": "python",
   "pygments_lexer": "ipython3",
   "version": "3.8.3"
  }
 },
 "nbformat": 4,
 "nbformat_minor": 4
}
